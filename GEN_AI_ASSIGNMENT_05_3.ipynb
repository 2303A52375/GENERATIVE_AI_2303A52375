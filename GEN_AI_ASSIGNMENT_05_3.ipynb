{
  "nbformat": 4,
  "nbformat_minor": 0,
  "metadata": {
    "colab": {
      "provenance": [],
      "authorship_tag": "ABX9TyM7TlPw90kS9q5wEqiRLxHG",
      "include_colab_link": true
    },
    "kernelspec": {
      "name": "python3",
      "display_name": "Python 3"
    },
    "language_info": {
      "name": "python"
    }
  },
  "cells": [
    {
      "cell_type": "markdown",
      "metadata": {
        "id": "view-in-github",
        "colab_type": "text"
      },
      "source": [
        "<a href=\"https://colab.research.google.com/github/2303A52375/GENERATIVE_AI_2303A52375/blob/main/GEN_AI_ASSIGNMENT_05_3.ipynb\" target=\"_parent\"><img src=\"https://colab.research.google.com/assets/colab-badge.svg\" alt=\"Open In Colab\"/></a>"
      ]
    },
    {
      "cell_type": "code",
      "execution_count": 1,
      "metadata": {
        "id": "7p9bpxSKDOzL"
      },
      "outputs": [],
      "source": [
        "import numpy as np\n",
        "\n",
        "def sigmoid(x):\n",
        "    return 1 / (1 + np.exp(-x))\n",
        "\n",
        "def sigmoid_derivative(x):\n",
        "    return x * (1 - x)\n",
        "\n",
        "def mse(y_true, y_pred):\n",
        "    return np.mean((y_true - y_pred) ** 2)"
      ]
    },
    {
      "cell_type": "code",
      "source": [
        "data = np.array([[1, 2, 0.4140], [2, 3, 0.4611], [5, 6, 0.5501], [6, 7, 0.5656], [7, 8, 0.5765], [8, 9, 0.5840]])\n",
        "X_train, y_train = data[:, :2], data[:, 2:]\n",
        "test_data = np.array([[3, 4, 0.4992], [4, 5, 0.5285]])\n",
        "X_test, y_test = test_data[:, :2], test_data[:, 2:]"
      ],
      "metadata": {
        "id": "dGUjHoItDmc9"
      },
      "execution_count": 2,
      "outputs": []
    },
    {
      "cell_type": "code",
      "source": [
        "np.random.seed(0)\n",
        "W1 = np.random.rand(2, 3)\n",
        "b1 = np.random.rand(1, 3)\n",
        "W2 = np.random.rand(3, 1)\n",
        "b2 = np.random.rand(1, 1)"
      ],
      "metadata": {
        "id": "2r6WgIWYDoA4"
      },
      "execution_count": 3,
      "outputs": []
    },
    {
      "cell_type": "code",
      "source": [
        "learning_rate = 0.1\n",
        "epochs = 5000"
      ],
      "metadata": {
        "id": "4RSNGbvFDpGh"
      },
      "execution_count": 4,
      "outputs": []
    },
    {
      "cell_type": "code",
      "source": [
        "for _ in range(epochs):\n",
        "    hidden_input = np.dot(X_train, W1) + b1\n",
        "    hidden_output = sigmoid(hidden_input)\n",
        "    final_input = np.dot(hidden_output, W2) + b2\n",
        "    final_output = final_input\n",
        "    error = y_train - final_output\n",
        "    d_output = error\n",
        "    d_hidden = np.dot(d_output, W2.T) * sigmoid_derivative(hidden_output)\n",
        "    W2 += np.dot(hidden_output.T, d_output) * learning_rate\n",
        "    b2 += np.sum(d_output, axis=0, keepdims=True) * learning_rate\n",
        "    W1 += np.dot(X_train.T, d_hidden) * learning_rate\n",
        "    b1 += np.sum(d_hidden, axis=0, keepdims=True) * learning_rate"
      ],
      "metadata": {
        "id": "AHkGLfeXDrTi"
      },
      "execution_count": 5,
      "outputs": []
    },
    {
      "cell_type": "code",
      "source": [
        "train_predictions = np.dot(sigmoid(np.dot(X_train, W1) + b1), W2) + b2\n",
        "test_predictions = np.dot(sigmoid(np.dot(X_test, W1) + b1), W2) + b2\n",
        "print(mse(y_train, train_predictions))\n",
        "print(mse(y_test, test_predictions))"
      ],
      "metadata": {
        "colab": {
          "base_uri": "https://localhost:8080/"
        },
        "id": "0qPav1PwDuCF",
        "outputId": "194fa41e-0abb-404c-9b65-d1aabf2ee994"
      },
      "execution_count": 6,
      "outputs": [
        {
          "output_type": "stream",
          "name": "stdout",
          "text": [
            "8.787942876749573e-06\n",
            "9.624128530964148e-06\n"
          ]
        }
      ]
    },
    {
      "cell_type": "code",
      "source": [
        "x1, x2 = map(float, input().split())\n",
        "user_input = np.array([[x1, x2]])\n",
        "user_output = np.dot(sigmoid(np.dot(user_input, W1) + b1), W2) + b2\n",
        "print(user_output[0][0])"
      ],
      "metadata": {
        "colab": {
          "base_uri": "https://localhost:8080/"
        },
        "id": "XRzFE4IoDvQs",
        "outputId": "b81d985e-19d7-4d6b-a62f-b00a7bc91915"
      },
      "execution_count": 7,
      "outputs": [
        {
          "output_type": "stream",
          "name": "stdout",
          "text": [
            "3 4 \n",
            "0.500124119474034\n"
          ]
        }
      ]
    }
  ]
}