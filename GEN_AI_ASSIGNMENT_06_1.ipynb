{
  "nbformat": 4,
  "nbformat_minor": 0,
  "metadata": {
    "colab": {
      "provenance": [],
      "authorship_tag": "ABX9TyMMgN8EgFH0o/WFr7iTixHr",
      "include_colab_link": true
    },
    "kernelspec": {
      "name": "python3",
      "display_name": "Python 3"
    },
    "language_info": {
      "name": "python"
    }
  },
  "cells": [
    {
      "cell_type": "markdown",
      "metadata": {
        "id": "view-in-github",
        "colab_type": "text"
      },
      "source": [
        "<a href=\"https://colab.research.google.com/github/2303A52375/GENERATIVE_AI_2303A52375/blob/main/GEN_AI_ASSIGNMENT_06_1.ipynb\" target=\"_parent\"><img src=\"https://colab.research.google.com/assets/colab-badge.svg\" alt=\"Open In Colab\"/></a>"
      ]
    },
    {
      "cell_type": "markdown",
      "source": [
        "1 . Design a multilayer ANN architecture according to the requirements shown below. Train, test, save (.h5) and deploy the model to predict the housing price using Keras deep learning library\n",
        "\n",
        "2 . (1 ponto) Calculate training and testing error metrics\n",
        "\n",
        "3 . (1 ponto) Build the application by loading the saved ANN modeL."
      ],
      "metadata": {
        "id": "u5kkZMA3EkE9"
      }
    },
    {
      "cell_type": "code",
      "execution_count": 1,
      "metadata": {
        "id": "UZ999Uw4EDbv"
      },
      "outputs": [],
      "source": [
        "import numpy as np\n",
        "def tanh(x):\n",
        "    return np.tanh(x)\n",
        "def tanh_deriv(x):\n",
        "    return 1 - np.tanh(x)**2\n"
      ]
    },
    {
      "cell_type": "code",
      "source": [
        "def init_weights(layers):\n",
        "    np.random.seed(1)\n",
        "    w = [np.random.randn(layers[i], layers[i+1]) * 0.1 for i in range(len(layers)-1)]\n",
        "    b = [np.random.randn(1, layers[i+1]) * 0.1 for i in range(len(layers)-1)]\n",
        "    return w, b"
      ],
      "metadata": {
        "id": "YyxolgKaEKkX"
      },
      "execution_count": 2,
      "outputs": []
    },
    {
      "cell_type": "code",
      "source": [
        "def forward(X, w, b):\n",
        "    a = [X]\n",
        "    for i in range(len(w)-1):\n",
        "        a.append(tanh(np.dot(a[-1], w[i]) + b[i]))\n",
        "    a.append(np.dot(a[-1], w[-1]) + b[-1])\n",
        "    return a"
      ],
      "metadata": {
        "id": "ITk9LTarES8T"
      },
      "execution_count": 3,
      "outputs": []
    },
    {
      "cell_type": "code",
      "source": [
        "def backprop(X, y, w, b, lr):\n",
        "    a = forward(X, w, b)\n",
        "    err = y - a[-1]\n",
        "    d = [err]\n",
        "    for i in range(len(w)-1, 0, -1):\n",
        "        d.append(np.dot(d[-1], w[i].T) * tanh_deriv(a[i]))\n",
        "    d.reverse()\n",
        "    for i in range(len(w)):\n",
        "        w[i] += np.dot(a[i].T, d[i]) * lr\n",
        "        b[i] += np.sum(d[i], axis=0, keepdims=True) * lr"
      ],
      "metadata": {
        "id": "TZMcFwZ8EUJv"
      },
      "execution_count": 4,
      "outputs": []
    },
    {
      "cell_type": "code",
      "source": [
        "def train(X, y, layers, lr=0.01, epochs=100):\n",
        "    w, b = init_weights(layers)\n",
        "    for _ in range(epochs):\n",
        "        backprop(X, y, w, b, lr)\n",
        "    return w, b\n",
        "\n",
        "def predict(X, w, b):\n",
        "    return forward(X, w, b)[-1]\n",
        "\n",
        "def mse(y, y_pred):\n",
        "    return np.mean((y - y_pred) ** 2)"
      ],
      "metadata": {
        "id": "6U_y3lDSEW7x"
      },
      "execution_count": 5,
      "outputs": []
    },
    {
      "cell_type": "code",
      "source": [
        "X_train = np.random.rand(100, 10)\n",
        "y_train = np.random.rand(100, 1)"
      ],
      "metadata": {
        "id": "gOS5v1VMEaAe"
      },
      "execution_count": 6,
      "outputs": []
    },
    {
      "cell_type": "code",
      "source": [
        "X_test = np.random.rand(20, 10)\n",
        "y_test = np.random.rand(20, 1)"
      ],
      "metadata": {
        "id": "E_t1xLSSEcMY"
      },
      "execution_count": 7,
      "outputs": []
    },
    {
      "cell_type": "code",
      "source": [
        "layers = [10, 15, 20, 15, 1]\n",
        "w, b = train(X_train, y_train, layers, lr=0.01, epochs=100)"
      ],
      "metadata": {
        "id": "a6y3qjvyEdst"
      },
      "execution_count": 8,
      "outputs": []
    },
    {
      "cell_type": "code",
      "source": [
        "train_mse = mse(y_train, predict(X_train, w, b))\n",
        "test_mse = mse(y_test, predict(X_test, w, b))"
      ],
      "metadata": {
        "id": "4VBkBVl9Ee6E"
      },
      "execution_count": 9,
      "outputs": []
    },
    {
      "cell_type": "code",
      "source": [
        "print(\"Train MSE:\", train_mse)\n",
        "print(\"Test MSE:\", test_mse)"
      ],
      "metadata": {
        "colab": {
          "base_uri": "https://localhost:8080/"
        },
        "id": "ReZNbOArEgGd",
        "outputId": "5125f856-8338-428c-d60c-4f57df3d3974"
      },
      "execution_count": 10,
      "outputs": [
        {
          "output_type": "stream",
          "name": "stdout",
          "text": [
            "Train MSE: 0.0766997512849203\n",
            "Test MSE: 0.08441906899673418\n"
          ]
        }
      ]
    },
    {
      "cell_type": "code",
      "source": [
        "new_data = np.random.rand(1, 10)\n",
        "predicted_price = predict(new_data, w, b)\n",
        "print(\"Predicted Price:\", predicted_price[0][0])"
      ],
      "metadata": {
        "colab": {
          "base_uri": "https://localhost:8080/"
        },
        "id": "jzALMWxWEhfg",
        "outputId": "e8604dd0-0620-49bf-d346-0db8516f336c"
      },
      "execution_count": 11,
      "outputs": [
        {
          "output_type": "stream",
          "name": "stdout",
          "text": [
            "Predicted Price: 0.5216826450521821\n"
          ]
        }
      ]
    }
  ]
}