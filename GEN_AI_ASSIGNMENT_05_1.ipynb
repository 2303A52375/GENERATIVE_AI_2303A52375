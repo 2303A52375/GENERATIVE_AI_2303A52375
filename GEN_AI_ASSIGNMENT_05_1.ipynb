{
  "nbformat": 4,
  "nbformat_minor": 0,
  "metadata": {
    "colab": {
      "provenance": [],
      "authorship_tag": "ABX9TyMmH/0kUtDEGLPUfG/G/GL0",
      "include_colab_link": true
    },
    "kernelspec": {
      "name": "python3",
      "display_name": "Python 3"
    },
    "language_info": {
      "name": "python"
    }
  },
  "cells": [
    {
      "cell_type": "markdown",
      "metadata": {
        "id": "view-in-github",
        "colab_type": "text"
      },
      "source": [
        "<a href=\"https://colab.research.google.com/github/2303A52375/GENERATIVE_AI_2303A52375/blob/main/GEN_AI_ASSIGNMENT_05_1.ipynb\" target=\"_parent\"><img src=\"https://colab.research.google.com/assets/colab-badge.svg\" alt=\"Open In Colab\"/></a>"
      ]
    },
    {
      "cell_type": "markdown",
      "source": [
        "Design a multi-layer ANN architecture with one input, one hidden, and one output layer. Assume a linear activation function in the output layer and a sigmoid activation function in the hidden layer. • Write Python code for a backpropagation algorithm with gradient descent optimization to update weights and bias parameters of the ANN model with training data shown in Table 1. • Calculate the mean square error with training and testing data shown in Table 2. • Write Python code that reads the input data [x1 and x2] from the user. Predict the output with deployed ANN model Tabela 1: Training Data x1 x2 y 0.1 0.2 0.3432 0.2 0.3 0.3490 0.3 0.4 0.3548 0.6 0.7 0.3720 0.7 0.8 0.3776 0.8 0.9 0.3832 Tabela 2: Test Data x1 x2 y 0.4 0.5 0.3606 0.5 0.6 0.3663"
      ],
      "metadata": {
        "id": "JCCtMvx5F4y5"
      }
    },
    {
      "cell_type": "code",
      "execution_count": 1,
      "metadata": {
        "id": "uoSMactAFmXN"
      },
      "outputs": [],
      "source": [
        "import numpy as np\n",
        "\n",
        "def sigmoid(x):\n",
        "    return 1 / (1 + np.exp(-x))\n",
        "\n",
        "def sigmoid_derivative(x):\n",
        "    return x * (1 - x) # Move this function outside of sigmoid"
      ]
    },
    {
      "cell_type": "code",
      "source": [
        "input_size = 2\n",
        "hidden_size = 3\n",
        "output_size = 1\n",
        "\n",
        "hidden_weights = np.random.uniform(size=(input_size, hidden_size))\n",
        "hidden_bias = np.random.uniform(size=(1, hidden_size))\n",
        "output_weights = np.random.uniform(size=(hidden_size, output_size))\n",
        "output_bias = np.random.uniform(size=(1, output_size))\n",
        ""
      ],
      "metadata": {
        "id": "YzYxn29mF8aR"
      },
      "execution_count": 2,
      "outputs": []
    },
    {
      "cell_type": "code",
      "source": [
        "training_inputs = np.array([[0.1, 0.2], [0.2, 0.3], [0.3, 0.4], [0.6, 0.7], [0.7, 0.8], [0.8, 0.9]])\n",
        "training_outputs = np.array([[0.3432], [0.3490], [0.3548], [0.3720], [0.3776], [0.3832]])\n",
        "\n",
        "test_inputs = np.array([[0.4, 0.5], [0.5, 0.6]])\n",
        "test_outputs = np.array([[0.3606], [0.3663]])"
      ],
      "metadata": {
        "id": "mjqnbEP8F9_N"
      },
      "execution_count": 3,
      "outputs": []
    },
    {
      "cell_type": "code",
      "source": [
        "learning_rate = 0.1\n",
        "epochs = 10000"
      ],
      "metadata": {
        "id": "r7gGm5PgF_W9"
      },
      "execution_count": 4,
      "outputs": []
    },
    {
      "cell_type": "code",
      "source": [
        "for epoch in range(epochs):\n",
        "    hidden_layer_activation = sigmoid(np.dot(training_inputs, hidden_weights) + hidden_bias)\n",
        "    output_layer_activation = np.dot(hidden_layer_activation, output_weights) + output_bias\n",
        "\n",
        "    error = training_outputs - output_layer_activation\n",
        "\n",
        "    d_output = error\n",
        "    d_hidden = d_output.dot(output_weights.T) * sigmoid_derivative(hidden_layer_activation)\n",
        "\n",
        "    output_weights += hidden_layer_activation.T.dot(d_output) * learning_rate\n",
        "    output_bias += np.sum(d_output, axis=0, keepdims=True) * learning_rate\n",
        "    hidden_weights += training_inputs.T.dot(d_hidden) * learning_rate\n",
        "    hidden_bias += np.sum(d_hidden, axis=0, keepdims=True) * learning_rate"
      ],
      "metadata": {
        "id": "8SGv97zQGBiE"
      },
      "execution_count": 5,
      "outputs": []
    },
    {
      "cell_type": "code",
      "source": [
        "def calculate_mse(inputs, outputs):\n",
        "    hidden_layer_activation = sigmoid(np.dot(inputs, hidden_weights) + hidden_bias)\n",
        "    output_layer_activation = np.dot(hidden_layer_activation, output_weights) + output_bias\n",
        "    mse = np.mean((outputs - output_layer_activation)**2)\n",
        "    return mse"
      ],
      "metadata": {
        "id": "-2oLXM6AGCsq"
      },
      "execution_count": 6,
      "outputs": []
    },
    {
      "cell_type": "code",
      "source": [
        "training_mse = calculate_mse(training_inputs, training_outputs)\n",
        "test_mse = calculate_mse(test_inputs, test_outputs)\n",
        "\n",
        "print(\"Training MSE:\", training_mse)\n",
        "print(\"Test MSE:\", test_mse)"
      ],
      "metadata": {
        "colab": {
          "base_uri": "https://localhost:8080/"
        },
        "id": "8e_jtn9AGEm3",
        "outputId": "e5477849-f25f-4693-da18-9b993111e4f2"
      },
      "execution_count": 7,
      "outputs": [
        {
          "output_type": "stream",
          "name": "stdout",
          "text": [
            "Training MSE: 5.321108057843756e-08\n",
            "Test MSE: 1.555794971390882e-07\n"
          ]
        }
      ]
    },
    {
      "cell_type": "code",
      "source": [
        "def predict_output(x1, x2):\n",
        "    input_data = np.array([[x1, x2]])\n",
        "    hidden_layer_activation = sigmoid(np.dot(input_data, hidden_weights) + hidden_bias)\n",
        "    output_layer_activation = np.dot(hidden_layer_activation, output_weights) + output_bias\n",
        "    return output_layer_activation[0][0]"
      ],
      "metadata": {
        "id": "yWvA0L3NGGPo"
      },
      "execution_count": 8,
      "outputs": []
    },
    {
      "cell_type": "code",
      "source": [
        "\n",
        "x1 = float(input(\"Enter x1: \"))\n",
        "x2 = float(input(\"Enter x2: \"))\n",
        "predicted_output = predict_output(x1, x2)\n",
        "print(\"Predicted output:\", predicted_output)"
      ],
      "metadata": {
        "colab": {
          "base_uri": "https://localhost:8080/"
        },
        "id": "4NACZodNGHiS",
        "outputId": "07dc3d8d-b47d-45b4-91e0-6c726ac9e9d8"
      },
      "execution_count": 9,
      "outputs": [
        {
          "output_type": "stream",
          "name": "stdout",
          "text": [
            "Enter x1: 0.5\n",
            "Enter x2: 0.89\n",
            "Predicted output: 0.36635665865074885\n"
          ]
        }
      ]
    }
  ]
}