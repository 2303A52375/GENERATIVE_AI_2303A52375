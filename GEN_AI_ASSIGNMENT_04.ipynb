{
  "nbformat": 4,
  "nbformat_minor": 0,
  "metadata": {
    "colab": {
      "provenance": [],
      "authorship_tag": "ABX9TyPIWQ0xJzv6ddsW3vl9J+IT",
      "include_colab_link": true
    },
    "kernelspec": {
      "name": "python3",
      "display_name": "Python 3"
    },
    "language_info": {
      "name": "python"
    }
  },
  "cells": [
    {
      "cell_type": "markdown",
      "metadata": {
        "id": "view-in-github",
        "colab_type": "text"
      },
      "source": [
        "<a href=\"https://colab.research.google.com/github/2303A52375/GENERATIVE_AI_2303A52375/blob/main/GEN_AI_ASSIGNMENT_04.ipynb\" target=\"_parent\"><img src=\"https://colab.research.google.com/assets/colab-badge.svg\" alt=\"Open In Colab\"/></a>"
      ]
    },
    {
      "cell_type": "markdown",
      "source": [
        "Question - 01\n"
      ],
      "metadata": {
        "id": "4DqwDtkGE7LG"
      }
    },
    {
      "cell_type": "code",
      "execution_count": 1,
      "metadata": {
        "id": "SBT2AbcPD4Yt"
      },
      "outputs": [],
      "source": [
        "import numpy as np\n",
        "X_train = np.array([[0.1, 0.2, 0.3],\n",
        "                   [0.2, 0.3, 0.4],\n",
        "                   [0.3, 0.4, 0.5],\n",
        "                   [0.5, 0.6, 0.7],\n",
        "                   [0.1, 0.3, 0.5],\n",
        "                   [0.2, 0.4, 0.6],\n",
        "                   [0.3, 0.5, 0.7],\n",
        "                   [0.4, 0.6, 0.8],\n",
        "                   [0.5, 0.7, 0.1]])\n",
        "y_train = np.array([0.14, 0.20, 0.26, 0.38, 0.22, 0.28, 0.34, 0.40, 0.22])"
      ]
    },
    {
      "cell_type": "code",
      "source": [
        "W = np.random.rand(3)\n",
        "b = np.random.rand(1)\n",
        "learning_rate = 0.01\n",
        "epochs = 1000"
      ],
      "metadata": {
        "id": "bHSBPO65EbaT"
      },
      "execution_count": 2,
      "outputs": []
    },
    {
      "cell_type": "code",
      "source": [
        "for epoch in range(epochs):\n",
        "    for i in range(len(X_train)):\n",
        "        y_pred = np.dot(X_train[i], W) + b\n",
        "        error = y_train[i] - y_pred\n",
        "        W = W + learning_rate * error * X_train[i]\n",
        "        b = b + learning_rate * error"
      ],
      "metadata": {
        "id": "0e2mOkOxEiJu"
      },
      "execution_count": 3,
      "outputs": []
    },
    {
      "cell_type": "code",
      "source": [
        "#Mean squared Error Calculation\n",
        "X_test = np.array([[0.6, 0.7, 0.8],\n",
        "                  [0.7, 0.8, 0.9]])\n",
        "y_test = np.array([0.44, 0.50])\n",
        "y_train_pred = np.dot(X_train, W) + b\n",
        "y_test_pred = np.dot(X_test, W) + b"
      ],
      "metadata": {
        "id": "p96luNAoEkHy"
      },
      "execution_count": 4,
      "outputs": []
    },
    {
      "cell_type": "code",
      "source": [
        "mse_train = np.mean((y_train - y_train_pred)**2)\n",
        "mse_test = np.mean((y_test - y_test_pred)**2)\n",
        "\n",
        "print(\"Mean Squared Error (Training):\", mse_train)\n",
        "print(\"Mean Squared Error (Test):\", mse_test)"
      ],
      "metadata": {
        "colab": {
          "base_uri": "https://localhost:8080/"
        },
        "id": "ESfp9I0pElxw",
        "outputId": "5b1f33ac-0211-4ce8-f8e2-f0a3ad4d3090"
      },
      "execution_count": 5,
      "outputs": [
        {
          "output_type": "stream",
          "name": "stdout",
          "text": [
            "Mean Squared Error (Training): 4.674051101927429e-05\n",
            "Mean Squared Error (Test): 6.767299556944084e-05\n"
          ]
        }
      ]
    },
    {
      "cell_type": "code",
      "source": [
        "x1 = float(input(\"Enter x1: \"))\n",
        "x2 = float(input(\"Enter x2: \"))\n",
        "x3 = float(input(\"Enter x3: \"))"
      ],
      "metadata": {
        "colab": {
          "base_uri": "https://localhost:8080/"
        },
        "id": "vH7lLMW5EnLY",
        "outputId": "d3b83d88-7409-4f32-f179-ce8f9d0f5a10"
      },
      "execution_count": 6,
      "outputs": [
        {
          "name": "stdout",
          "output_type": "stream",
          "text": [
            "Enter x1: 0.6\n",
            "Enter x2: 0.7\n",
            "Enter x3: 0.8\n"
          ]
        }
      ]
    },
    {
      "cell_type": "code",
      "source": [
        "user_input = np.array([x1, x2, x3])\n",
        "prediction = np.dot(user_input, W) + b\n",
        "\n",
        "print(\"Prediction:\", prediction)"
      ],
      "metadata": {
        "colab": {
          "base_uri": "https://localhost:8080/"
        },
        "id": "oZdhdUWFEoyN",
        "outputId": "8710cabd-1d0c-4f3a-e09d-98cc3bc1e7ac"
      },
      "execution_count": 7,
      "outputs": [
        {
          "output_type": "stream",
          "name": "stdout",
          "text": [
            "Prediction: [0.44813274]\n"
          ]
        }
      ]
    },
    {
      "cell_type": "markdown",
      "source": [
        "Question - 02"
      ],
      "metadata": {
        "id": "fFrEfb0uE-7G"
      }
    },
    {
      "cell_type": "code",
      "source": [
        "import numpy as np\n",
        "def sigmoid(x):\n",
        "  return 1 / (1 + np.exp(-x))"
      ],
      "metadata": {
        "id": "X87fSIbnEqtF"
      },
      "execution_count": 8,
      "outputs": []
    },
    {
      "cell_type": "code",
      "source": [
        "X_train = np.array([[0.1, 0.2, 0.3],\n",
        "                   [0.2, 0.3, 0.4],\n",
        "                   [0.3, 0.4, 0.5],\n",
        "                   [0.5, 0.6, 0.7],\n",
        "                   [0.1, 0.3, 0.5],\n",
        "                   [0.2, 0.4, 0.6],\n",
        "                   [0.3, 0.5, 0.7],\n",
        "                   [0.4, 0.6, 0.8],\n",
        "                   [0.5, 0.7, 0.1]])\n",
        "y_train = np.array([0.5349, 0.5498, 0.5646, 0.5939, 0.5548, 0.5695, 0.5842, 0.5987, 0.5548])"
      ],
      "metadata": {
        "id": "6y36PxXTEuMd"
      },
      "execution_count": 9,
      "outputs": []
    },
    {
      "cell_type": "code",
      "source": [
        "\n",
        "X_test = np.array([[0.6, 0.7, 0.8],\n",
        "                  [0.7, 0.8, 0.9]])\n",
        "y_test = np.array([0.6083, 0.6225])"
      ],
      "metadata": {
        "id": "AqLu6C6oEv87"
      },
      "execution_count": 10,
      "outputs": []
    },
    {
      "cell_type": "code",
      "source": [
        "W = np.random.rand(3)\n",
        "b = np.random.rand(1)\n",
        "learning_rate = 0.1\n",
        "epochs = 1000"
      ],
      "metadata": {
        "id": "LcEn_psMEzsa"
      },
      "execution_count": 11,
      "outputs": []
    },
    {
      "cell_type": "code",
      "source": [
        "for epoch in range(epochs):\n",
        "  for i in range(len(X_train)):\n",
        "    z = np.dot(X_train[i], W) + b\n",
        "    y_pred = sigmoid(z)\n",
        "    error = y_train[i] - y_pred\n",
        "    d_sigmoid = y_pred * (1 - y_pred)\n",
        "    delta = error * d_sigmoid\n",
        "    W += learning_rate * delta * X_train[i]\n",
        "    b += learning_rate * delta"
      ],
      "metadata": {
        "id": "bVt64lv0E1Tk"
      },
      "execution_count": 12,
      "outputs": []
    },
    {
      "cell_type": "code",
      "source": [
        "\n",
        "y_train_pred = sigmoid(np.dot(X_train, W) + b)\n",
        "y_test_pred = sigmoid(np.dot(X_test, W) + b)\n",
        "\n",
        "mse_train = np.mean((y_train - y_train_pred)**2)\n",
        "mse_test = np.mean((y_test - y_test_pred)**2)\n",
        "\n",
        "print(\"Mean Squared Error (Training):\", mse_train)\n",
        "print(\"Mean Squared Error (Test):\", mse_test)"
      ],
      "metadata": {
        "colab": {
          "base_uri": "https://localhost:8080/"
        },
        "id": "zqNxIA6dE245",
        "outputId": "6b815a54-b472-4ff5-b9ff-6c26d0376c64"
      },
      "execution_count": 13,
      "outputs": [
        {
          "output_type": "stream",
          "name": "stdout",
          "text": [
            "Mean Squared Error (Training): 2.5262004920714535e-05\n",
            "Mean Squared Error (Test): 9.924557210122509e-05\n"
          ]
        }
      ]
    },
    {
      "cell_type": "code",
      "source": [
        "\n",
        "x1 = float(input(\"Enter x1: \"))\n",
        "x2 = float(input(\"Enter x2: \"))\n",
        "x3 = float(input(\"Enter x3: \"))"
      ],
      "metadata": {
        "colab": {
          "base_uri": "https://localhost:8080/"
        },
        "id": "OScljFopE4J7",
        "outputId": "7ffcd819-4c0d-487b-bc3e-531b3aa34572"
      },
      "execution_count": 14,
      "outputs": [
        {
          "name": "stdout",
          "output_type": "stream",
          "text": [
            "Enter x1: 0.6\n",
            "Enter x2: 0.7\n",
            "Enter x3: 0.8\n"
          ]
        }
      ]
    },
    {
      "cell_type": "code",
      "source": [
        "\n",
        "user_input = np.array([x1, x2, x3])\n",
        "prediction = sigmoid(np.dot(user_input, W) + b)\n",
        "\n",
        "print(\"Prediction:\", prediction)"
      ],
      "metadata": {
        "colab": {
          "base_uri": "https://localhost:8080/"
        },
        "id": "J1S6bA8EE6C0",
        "outputId": "25049e61-f018-4dc4-e94c-6df089abf46c"
      },
      "execution_count": 15,
      "outputs": [
        {
          "output_type": "stream",
          "name": "stdout",
          "text": [
            "Prediction: [0.61658688]\n"
          ]
        }
      ]
    }
  ]
}