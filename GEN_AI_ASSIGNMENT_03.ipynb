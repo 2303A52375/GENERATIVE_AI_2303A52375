{
  "nbformat": 4,
  "nbformat_minor": 0,
  "metadata": {
    "colab": {
      "provenance": [],
      "authorship_tag": "ABX9TyOw73M8+d7l4vNzdMELynKb",
      "include_colab_link": true
    },
    "kernelspec": {
      "name": "python3",
      "display_name": "Python 3"
    },
    "language_info": {
      "name": "python"
    }
  },
  "cells": [
    {
      "cell_type": "markdown",
      "metadata": {
        "id": "view-in-github",
        "colab_type": "text"
      },
      "source": [
        "<a href=\"https://colab.research.google.com/github/2303A52375/GENERATIVE_AI_2303A52375/blob/main/GEN_AI_ASSIGNMENT_03.ipynb\" target=\"_parent\"><img src=\"https://colab.research.google.com/assets/colab-badge.svg\" alt=\"Open In Colab\"/></a>"
      ]
    },
    {
      "cell_type": "markdown",
      "source": [
        "1.Write Python code without using any libraries to find the value of x at which the\n",
        "function f(x) shown in equation (1) has minimum value. Consider Gradient Descent Algorithm.\n",
        "f (x) = 5x4 + 3x2 + 10"
      ],
      "metadata": {
        "id": "5Tmr7gs8iW4D"
      }
    },
    {
      "cell_type": "code",
      "execution_count": 10,
      "metadata": {
        "id": "-KcoNsa6hR3X"
      },
      "outputs": [],
      "source": [
        "def f(x):\n",
        "  return 5 * x**4 + 3 * x**2 + 10"
      ]
    },
    {
      "cell_type": "code",
      "source": [
        "def df(x):\n",
        "  return 20 * x**3 + 6 * x"
      ],
      "metadata": {
        "id": "xcXiddwph59b"
      },
      "execution_count": 11,
      "outputs": []
    },
    {
      "cell_type": "code",
      "source": [
        "def gradient_descent(learning_rate=0.01, iterations=1000, initial_x=1):\n",
        "  x = initial_x\n",
        "  for _ in range(iterations):\n",
        "    gradient = df(x)\n",
        "    x = x - learning_rate * gradient\n",
        "  return x\n"
      ],
      "metadata": {
        "id": "U3d2c608h6ww"
      },
      "execution_count": 12,
      "outputs": []
    },
    {
      "cell_type": "code",
      "source": [
        "learning_rate = 0.01\n",
        "iterations = 1000\n",
        "initial_x = 1"
      ],
      "metadata": {
        "id": "GbsyvoEsh7vM"
      },
      "execution_count": 13,
      "outputs": []
    },
    {
      "cell_type": "code",
      "source": [
        "x_min = gradient_descent(learning_rate, iterations, initial_x)"
      ],
      "metadata": {
        "id": "J_77zaUMh8mI"
      },
      "execution_count": 14,
      "outputs": []
    },
    {
      "cell_type": "code",
      "source": [
        "print(\"The value of x at which the function has a minimum is:\", x_min)"
      ],
      "metadata": {
        "colab": {
          "base_uri": "https://localhost:8080/"
        },
        "id": "BKbGxBqFh9jo",
        "outputId": "6660daa6-11c5-4cd6-fdc9-369e8b9e23c4"
      },
      "execution_count": 15,
      "outputs": [
        {
          "output_type": "stream",
          "name": "stdout",
          "text": [
            "The value of x at which the function has a minimum is: 5.963540395046457e-28\n"
          ]
        }
      ]
    },
    {
      "cell_type": "markdown",
      "source": [
        "2.Write Python code without using any libraries to find the value of x and y at which the\n",
        "function g(x,y) shown in equation (2) has minimum value. Consider Gradient Descent Algorithm.\n",
        "f (x) = 3x2 + 5e−y + 10"
      ],
      "metadata": {
        "id": "FP1-MDeuiUvm"
      }
    },
    {
      "cell_type": "code",
      "source": [
        "import math\n",
        "def g(x, y):\n",
        "  return 3 * x**2 + 5 * math.exp(-y) + 10\n"
      ],
      "metadata": {
        "id": "mu9HZGNnh-n-"
      },
      "execution_count": 16,
      "outputs": []
    },
    {
      "cell_type": "code",
      "source": [
        "def dg_dx(x, y):\n",
        "  return 6 * x\n",
        "\n",
        "def dg_dy(x, y):\n",
        "  return -5 * math.exp(-y)"
      ],
      "metadata": {
        "id": "-Al_uqH4h_xe"
      },
      "execution_count": 17,
      "outputs": []
    },
    {
      "cell_type": "code",
      "source": [
        "def gradient_descent(learning_rate=0.01, iterations=1000, initial_x=1, initial_y=1):\n",
        "  x = initial_x\n",
        "  y = initial_y\n",
        "  for _ in range(iterations):\n",
        "    gradient_x = dg_dx(x, y)\n",
        "    gradient_y = dg_dy(x, y)\n",
        "    x = x - learning_rate * gradient_x\n",
        "    y = y - learning_rate * gradient_y\n",
        "  return x, y"
      ],
      "metadata": {
        "id": "ztLHBdOuiAh5"
      },
      "execution_count": 18,
      "outputs": []
    },
    {
      "cell_type": "code",
      "source": [
        "learning_rate = 0.01\n",
        "iterations = 1000\n",
        "initial_x = 1\n",
        "initial_y = 1"
      ],
      "metadata": {
        "id": "300vhyMliBWu"
      },
      "execution_count": 19,
      "outputs": []
    },
    {
      "cell_type": "code",
      "source": [
        "x_min, y_min = gradient_descent(learning_rate, iterations, initial_x, initial_y)\n",
        "print(\"The value of x at which the function has a minimum is:\", x_min)\n",
        "print(\"The value of y at which the function has a minimum is:\", y_min)"
      ],
      "metadata": {
        "colab": {
          "base_uri": "https://localhost:8080/"
        },
        "id": "oLoNaUueiDKS",
        "outputId": "0f15851e-1540-4a1d-f667-1eef7e44da8e"
      },
      "execution_count": 20,
      "outputs": [
        {
          "output_type": "stream",
          "name": "stdout",
          "text": [
            "The value of x at which the function has a minimum is: 1.3423123924933694e-27\n",
            "The value of y at which the function has a minimum is: 3.9663707936306642\n"
          ]
        }
      ]
    },
    {
      "cell_type": "markdown",
      "source": [
        "3.Write Python code without using any libraries to find the value of x at which the\n",
        "sigmoid function z(x) shown in equation (3) has minimum value. Consider Gradient Descent\n",
        "Algorithm.\n",
        "z(x) = 1\n",
        "1 + e−x"
      ],
      "metadata": {
        "id": "V7FUo-o5iSGM"
      }
    },
    {
      "cell_type": "code",
      "source": [
        "import math\n",
        "def sigmoid(x):\n",
        "  return 1 / (1 + math.exp(-x))"
      ],
      "metadata": {
        "id": "4x5wf35miEcI"
      },
      "execution_count": 21,
      "outputs": []
    },
    {
      "cell_type": "code",
      "source": [
        "def sigmoid_derivative(x):\n",
        "  return sigmoid(x) * (1 - sigmoid(x))"
      ],
      "metadata": {
        "id": "menXbHkHiFro"
      },
      "execution_count": 22,
      "outputs": []
    },
    {
      "cell_type": "code",
      "source": [
        "def gradient_descent(learning_rate=0.01, iterations=1000, initial_x=0):\n",
        "  x = initial_x\n",
        "  for _ in range(iterations):\n",
        "    gradient = sigmoid_derivative(x)\n",
        "    x = x - learning_rate * gradient\n",
        "  return x"
      ],
      "metadata": {
        "id": "KhQA3-wRiGih"
      },
      "execution_count": 23,
      "outputs": []
    },
    {
      "cell_type": "code",
      "source": [
        "learning_rate = 0.01\n",
        "iterations = 1000\n",
        "initial_x = 0\n"
      ],
      "metadata": {
        "id": "1XSWv-86iHZ8"
      },
      "execution_count": 24,
      "outputs": []
    },
    {
      "cell_type": "code",
      "source": [
        "x_min = gradient_descent(learning_rate, iterations, initial_x)\n",
        "print(\"The value of x at which the sigmoid function has a minimum is:\", x_min)"
      ],
      "metadata": {
        "colab": {
          "base_uri": "https://localhost:8080/"
        },
        "id": "0O3MciN8iIgQ",
        "outputId": "f8af7b53-23bd-47cb-b4f8-4f83e18f7a42"
      },
      "execution_count": 25,
      "outputs": [
        {
          "output_type": "stream",
          "name": "stdout",
          "text": [
            "The value of x at which the sigmoid function has a minimum is: -1.8618354629020137\n"
          ]
        }
      ]
    },
    {
      "cell_type": "markdown",
      "source": [
        "4.Write Python code without using any libraries to find the value of optimal values of\n",
        "model parameters M and C such that the model’s Square Error Value shown in equation 4 will\n",
        "be minimum. It means model gives output close to expected output as shown in Figure"
      ],
      "metadata": {
        "id": "MjNwkZ5EiPM_"
      }
    },
    {
      "cell_type": "code",
      "source": [
        "def predict(x, m, c):\n",
        "    return m * x + c"
      ],
      "metadata": {
        "id": "06HVEHJkiJpP"
      },
      "execution_count": 26,
      "outputs": []
    },
    {
      "cell_type": "code",
      "source": [
        "def squared_error(x_values, y_values, m, c):\n",
        "    error = 0\n",
        "    for x, y in zip(x_values, y_values):\n",
        "        error += (y - predict(x, m, c)) ** 2\n",
        "    return error\n"
      ],
      "metadata": {
        "id": "LS6ut3D4iKhX"
      },
      "execution_count": 27,
      "outputs": []
    },
    {
      "cell_type": "code",
      "source": [
        "def gradient_descent(x_values, y_values, learning_rate=0.01, iterations=1000, initial_m=0, initial_c=0):\n",
        "    m = initial_m\n",
        "    c = initial_c\n",
        "    n = len(x_values)\n",
        "    for _ in range(iterations):\n",
        "        dm = 0\n",
        "        dc = 0\n",
        "        for x, y in zip(x_values, y_values):\n",
        "            dm += -2 * x * (y - predict(x, m, c))\n",
        "            dc += -2 * (y - predict(x, m, c))\n",
        "        m = m - learning_rate * (dm / n)\n",
        "        c = c - learning_rate * (dc / n)\n",
        "    return m, c"
      ],
      "metadata": {
        "id": "UzYvgq38iLS0"
      },
      "execution_count": 28,
      "outputs": []
    },
    {
      "cell_type": "code",
      "source": [
        "x_values = [1, 2, 3, 4, 5]\n",
        "y_values = [2, 4, 5, 4, 5]"
      ],
      "metadata": {
        "id": "ZJ8N6eytiMSM"
      },
      "execution_count": 29,
      "outputs": []
    },
    {
      "cell_type": "code",
      "source": [
        "optimal_m, optimal_c = gradient_descent(x_values, y_values)\n",
        "print(\"Optimal value of M:\", optimal_m)\n",
        "print(\"Optimal value of C:\", optimal_c)"
      ],
      "metadata": {
        "colab": {
          "base_uri": "https://localhost:8080/"
        },
        "id": "rXOUz0ZliNH5",
        "outputId": "bb1c81d5-b7ed-4837-d152-65dd97b61aae"
      },
      "execution_count": 30,
      "outputs": [
        {
          "output_type": "stream",
          "name": "stdout",
          "text": [
            "Optimal value of M: 0.6176946148762643\n",
            "Optimal value of C: 2.136116825825789\n"
          ]
        }
      ]
    }
  ]
}